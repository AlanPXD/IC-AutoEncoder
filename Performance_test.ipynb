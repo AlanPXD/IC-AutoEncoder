{
 "cells": [
  {
   "cell_type": "code",
   "execution_count": 1,
   "metadata": {},
   "outputs": [],
   "source": [
    "from psnrb import psnrb\n",
    "from modules.CustomLosses import LSSIM\n",
    "import sewar\n",
    "import numpy as np\n",
    "import tensorflow as tf\n",
    "\n",
    "img1_np = np.random.rand(5000,64,64,1)*255\n",
    "img2_np = np.random.rand(5000,64,64,1)*222\n",
    "img1 = tf.constant(img1_np, dtype=tf.float64)\n",
    "img2 = tf.constant(img2_np, dtype=tf.float64)\n"
   ]
  },
  {
   "cell_type": "code",
   "execution_count": 54,
   "metadata": {},
   "outputs": [
    {
     "name": "stdout",
     "output_type": "stream",
     "text": [
      "50.3 ms ± 968 µs per loop (mean ± std. dev. of 7 runs, 10 loops each)\n"
     ]
    }
   ],
   "source": [
    "%timeit psnrb(img2,img1)"
   ]
  },
  {
   "cell_type": "code",
   "execution_count": 37,
   "metadata": {},
   "outputs": [
    {
     "name": "stdout",
     "output_type": "stream",
     "text": [
      "62.6 ms ± 2.14 ms per loop (mean ± std. dev. of 7 runs, 1 loop each)\n"
     ]
    }
   ],
   "source": [
    "%timeit LSSIM().call(img2, img1)"
   ]
  },
  {
   "cell_type": "code",
   "execution_count": 53,
   "metadata": {},
   "outputs": [
    {
     "name": "stdout",
     "output_type": "stream",
     "text": [
      "4.51 s ± 10.9 ms per loop (mean ± std. dev. of 7 runs, 1 loop each)\n"
     ]
    }
   ],
   "source": [
    "%timeit [sewar.psnrb(img1_np[index], img2_np[index]) for index in range(5000)]"
   ]
  },
  {
   "cell_type": "code",
   "execution_count": 2,
   "metadata": {},
   "outputs": [
    {
     "data": {
      "text/plain": [
       "2.1316282072803006e-14"
      ]
     },
     "execution_count": 2,
     "metadata": {},
     "output_type": "execute_result"
    }
   ],
   "source": [
    "np.max(np.abs(psnrb(img1,img2) - [sewar.psnrb(img1_np[index], img2_np[index]) for index in range(5000)]))\n"
   ]
  }
 ],
 "metadata": {
  "kernelspec": {
   "display_name": "Auto2",
   "language": "python",
   "name": "python3"
  },
  "language_info": {
   "codemirror_mode": {
    "name": "ipython",
    "version": 3
   },
   "file_extension": ".py",
   "mimetype": "text/x-python",
   "name": "python",
   "nbconvert_exporter": "python",
   "pygments_lexer": "ipython3",
   "version": "3.8.2"
  },
  "orig_nbformat": 4,
  "vscode": {
   "interpreter": {
    "hash": "78e0caa509ae03115ae88a4b08e8fade5e246697214a9f0953a333e2333df42b"
   }
  }
 },
 "nbformat": 4,
 "nbformat_minor": 2
}
