{
 "cells": [
  {
   "cell_type": "code",
   "execution_count": null,
   "metadata": {},
   "outputs": [],
   "source": [
    "(x_train, y_train), (x_test, y_test) = tf.keras.datasets.cifar10.load_data()\n",
    "imgs_gray = tf.image.rgb_to_grayscale(tf.constant(x_train[200:302].astype(\"float32\")))\n",
    "imgs = tf.image.sobel_edges(imgs_gray)\n",
    "imgs = tf.sqrt( tf.square(imgs[:,:,:,:, 0]) + tf.square(imgs[:,:,:,:, 1]) )\n",
    "imgs = tf.image.per_image_standardization(imgs)\n",
    "img = imgs[50,:,:,0]\n",
    "px.imshow(img, zmin= tf.math.reduce_min(img).numpy(), zmax= tf.math.reduce_max(img).numpy(), binary_string=True)\n",
    "img_gray = imgs_gray[50,:,:,0]\n",
    "px.imshow(img_gray, zmin= tf.math.reduce_min(img_gray).numpy(), zmax= tf.math.reduce_max(img_gray).numpy(), binary_string=True)"
   ]
  }
 ],
 "metadata": {
  "kernelspec": {
   "display_name": "Python 3.8.2 ('Auto2')",
   "language": "python",
   "name": "python3"
  },
  "language_info": {
   "name": "python",
   "version": "3.8.2"
  },
  "orig_nbformat": 4,
  "vscode": {
   "interpreter": {
    "hash": "78e0caa509ae03115ae88a4b08e8fade5e246697214a9f0953a333e2333df42b"
   }
  }
 },
 "nbformat": 4,
 "nbformat_minor": 2
}
